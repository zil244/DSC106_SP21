{
 "cells": [
  {
   "cell_type": "markdown",
   "metadata": {},
   "source": [
    "# Assignment 3\n",
    "### Name: Zimu Li\n",
    "### PID: A13897206\n",
    "\n",
    "Github: https://github.com/zil244/DSC106_SP21"
   ]
  },
  {
   "cell_type": "code",
   "execution_count": 1,
   "metadata": {},
   "outputs": [],
   "source": [
    "import altair as alt\n",
    "from vega_datasets import data\n",
    "import pandas as pd\n",
    "import numpy as np"
   ]
  },
  {
   "cell_type": "markdown",
   "metadata": {},
   "source": [
    "##### Read in Dataset"
   ]
  },
  {
   "cell_type": "code",
   "execution_count": 2,
   "metadata": {},
   "outputs": [],
   "source": [
    "df = pd.read_csv('ukDriverFatalities.csv')"
   ]
  },
  {
   "cell_type": "markdown",
   "metadata": {},
   "source": [
    "### Problem 1"
   ]
  },
  {
   "cell_type": "code",
   "execution_count": 8,
   "metadata": {},
   "outputs": [],
   "source": [
    "def switchMonth(month): #Helper function to reformat month\n",
    "    months = ['Jan','Feb','Mar','Apr','May','Jun','Jul','Aug','Sep','Oct','Nov','Dec']\n",
    "    return months[month]"
   ]
  },
  {
   "cell_type": "code",
   "execution_count": 32,
   "metadata": {},
   "outputs": [
    {
     "data": {
      "text/html": [
       "\n",
       "<div id=\"altair-viz-017c4d55d25a4e59a06d1cc8499893b4\"></div>\n",
       "<script type=\"text/javascript\">\n",
       "  (function(spec, embedOpt){\n",
       "    let outputDiv = document.currentScript.previousElementSibling;\n",
       "    if (outputDiv.id !== \"altair-viz-017c4d55d25a4e59a06d1cc8499893b4\") {\n",
       "      outputDiv = document.getElementById(\"altair-viz-017c4d55d25a4e59a06d1cc8499893b4\");\n",
       "    }\n",
       "    const paths = {\n",
       "      \"vega\": \"https://cdn.jsdelivr.net/npm//vega@5?noext\",\n",
       "      \"vega-lib\": \"https://cdn.jsdelivr.net/npm//vega-lib?noext\",\n",
       "      \"vega-lite\": \"https://cdn.jsdelivr.net/npm//vega-lite@4.8.1?noext\",\n",
       "      \"vega-embed\": \"https://cdn.jsdelivr.net/npm//vega-embed@6?noext\",\n",
       "    };\n",
       "\n",
       "    function loadScript(lib) {\n",
       "      return new Promise(function(resolve, reject) {\n",
       "        var s = document.createElement('script');\n",
       "        s.src = paths[lib];\n",
       "        s.async = true;\n",
       "        s.onload = () => resolve(paths[lib]);\n",
       "        s.onerror = () => reject(`Error loading script: ${paths[lib]}`);\n",
       "        document.getElementsByTagName(\"head\")[0].appendChild(s);\n",
       "      });\n",
       "    }\n",
       "\n",
       "    function showError(err) {\n",
       "      outputDiv.innerHTML = `<div class=\"error\" style=\"color:red;\">${err}</div>`;\n",
       "      throw err;\n",
       "    }\n",
       "\n",
       "    function displayChart(vegaEmbed) {\n",
       "      vegaEmbed(outputDiv, spec, embedOpt)\n",
       "        .catch(err => showError(`Javascript Error: ${err.message}<br>This usually means there's a typo in your chart specification. See the javascript console for the full traceback.`));\n",
       "    }\n",
       "\n",
       "    if(typeof define === \"function\" && define.amd) {\n",
       "      requirejs.config({paths});\n",
       "      require([\"vega-embed\"], displayChart, err => showError(`Error loading script: ${err.message}`));\n",
       "    } else if (typeof vegaEmbed === \"function\") {\n",
       "      displayChart(vegaEmbed);\n",
       "    } else {\n",
       "      loadScript(\"vega\")\n",
       "        .then(() => loadScript(\"vega-lite\"))\n",
       "        .then(() => loadScript(\"vega-embed\"))\n",
       "        .catch(showError)\n",
       "        .then(() => displayChart(vegaEmbed));\n",
       "    }\n",
       "  })({\"config\": {\"view\": {\"continuousWidth\": 400, \"continuousHeight\": 300}}, \"data\": {\"name\": \"data-e697186e169a9c91e4023b98ef8fb61e\"}, \"mark\": \"rect\", \"encoding\": {\"color\": {\"type\": \"quantitative\", \"field\": \"count\", \"legend\": {\"title\": \"Fatalities\"}, \"scale\": {\"range\": [\"green\", \"red\"]}}, \"x\": {\"type\": \"nominal\", \"field\": \"year\", \"title\": \"Year\"}, \"y\": {\"type\": \"ordinal\", \"field\": \"Month\", \"sort\": [\"Jan\", \"Feb\", \"Mar\", \"Apr\", \"May\", \"Jun\", \"Jul\", \"Aug\", \"Sep\", \"Oct\", \"Nov\", \"Dec\"], \"title\": \"Month of Year\"}}, \"title\": \"Road Fatalities in the United Kingdom (1969 - 1984)\", \"$schema\": \"https://vega.github.io/schema/vega-lite/v4.8.1.json\", \"datasets\": {\"data-e697186e169a9c91e4023b98ef8fb61e\": [{\"month\": 0, \"year\": 1969, \"count\": 1687, \"Month\": \"Jan\"}, {\"month\": 1, \"year\": 1969, \"count\": 1508, \"Month\": \"Feb\"}, {\"month\": 2, \"year\": 1969, \"count\": 1507, \"Month\": \"Mar\"}, {\"month\": 3, \"year\": 1969, \"count\": 1385, \"Month\": \"Apr\"}, {\"month\": 4, \"year\": 1969, \"count\": 1632, \"Month\": \"May\"}, {\"month\": 5, \"year\": 1969, \"count\": 1511, \"Month\": \"Jun\"}, {\"month\": 6, \"year\": 1969, \"count\": 1559, \"Month\": \"Jul\"}, {\"month\": 7, \"year\": 1969, \"count\": 1630, \"Month\": \"Aug\"}, {\"month\": 8, \"year\": 1969, \"count\": 1579, \"Month\": \"Sep\"}, {\"month\": 9, \"year\": 1969, \"count\": 1653, \"Month\": \"Oct\"}, {\"month\": 10, \"year\": 1969, \"count\": 2152, \"Month\": \"Nov\"}, {\"month\": 11, \"year\": 1969, \"count\": 2148, \"Month\": \"Dec\"}, {\"month\": 0, \"year\": 1970, \"count\": 1752, \"Month\": \"Jan\"}, {\"month\": 1, \"year\": 1970, \"count\": 1765, \"Month\": \"Feb\"}, {\"month\": 2, \"year\": 1970, \"count\": 1717, \"Month\": \"Mar\"}, {\"month\": 3, \"year\": 1970, \"count\": 1558, \"Month\": \"Apr\"}, {\"month\": 4, \"year\": 1970, \"count\": 1575, \"Month\": \"May\"}, {\"month\": 5, \"year\": 1970, \"count\": 1520, \"Month\": \"Jun\"}, {\"month\": 6, \"year\": 1970, \"count\": 1805, \"Month\": \"Jul\"}, {\"month\": 7, \"year\": 1970, \"count\": 1800, \"Month\": \"Aug\"}, {\"month\": 8, \"year\": 1970, \"count\": 1719, \"Month\": \"Sep\"}, {\"month\": 9, \"year\": 1970, \"count\": 2008, \"Month\": \"Oct\"}, {\"month\": 10, \"year\": 1970, \"count\": 2242, \"Month\": \"Nov\"}, {\"month\": 11, \"year\": 1970, \"count\": 2478, \"Month\": \"Dec\"}, {\"month\": 0, \"year\": 1971, \"count\": 2030, \"Month\": \"Jan\"}, {\"month\": 1, \"year\": 1971, \"count\": 1655, \"Month\": \"Feb\"}, {\"month\": 2, \"year\": 1971, \"count\": 1693, \"Month\": \"Mar\"}, {\"month\": 3, \"year\": 1971, \"count\": 1623, \"Month\": \"Apr\"}, {\"month\": 4, \"year\": 1971, \"count\": 1805, \"Month\": \"May\"}, {\"month\": 5, \"year\": 1971, \"count\": 1746, \"Month\": \"Jun\"}, {\"month\": 6, \"year\": 1971, \"count\": 1795, \"Month\": \"Jul\"}, {\"month\": 7, \"year\": 1971, \"count\": 1926, \"Month\": \"Aug\"}, {\"month\": 8, \"year\": 1971, \"count\": 1619, \"Month\": \"Sep\"}, {\"month\": 9, \"year\": 1971, \"count\": 1992, \"Month\": \"Oct\"}, {\"month\": 10, \"year\": 1971, \"count\": 2233, \"Month\": \"Nov\"}, {\"month\": 11, \"year\": 1971, \"count\": 2192, \"Month\": \"Dec\"}, {\"month\": 0, \"year\": 1972, \"count\": 2080, \"Month\": \"Jan\"}, {\"month\": 1, \"year\": 1972, \"count\": 1768, \"Month\": \"Feb\"}, {\"month\": 2, \"year\": 1972, \"count\": 1835, \"Month\": \"Mar\"}, {\"month\": 3, \"year\": 1972, \"count\": 1569, \"Month\": \"Apr\"}, {\"month\": 4, \"year\": 1972, \"count\": 1976, \"Month\": \"May\"}, {\"month\": 5, \"year\": 1972, \"count\": 1853, \"Month\": \"Jun\"}, {\"month\": 6, \"year\": 1972, \"count\": 1965, \"Month\": \"Jul\"}, {\"month\": 7, \"year\": 1972, \"count\": 1689, \"Month\": \"Aug\"}, {\"month\": 8, \"year\": 1972, \"count\": 1778, \"Month\": \"Sep\"}, {\"month\": 9, \"year\": 1972, \"count\": 1976, \"Month\": \"Oct\"}, {\"month\": 10, \"year\": 1972, \"count\": 2397, \"Month\": \"Nov\"}, {\"month\": 11, \"year\": 1972, \"count\": 2654, \"Month\": \"Dec\"}, {\"month\": 0, \"year\": 1973, \"count\": 2097, \"Month\": \"Jan\"}, {\"month\": 1, \"year\": 1973, \"count\": 1963, \"Month\": \"Feb\"}, {\"month\": 2, \"year\": 1973, \"count\": 1677, \"Month\": \"Mar\"}, {\"month\": 3, \"year\": 1973, \"count\": 1941, \"Month\": \"Apr\"}, {\"month\": 4, \"year\": 1973, \"count\": 2003, \"Month\": \"May\"}, {\"month\": 5, \"year\": 1973, \"count\": 1813, \"Month\": \"Jun\"}, {\"month\": 6, \"year\": 1973, \"count\": 2012, \"Month\": \"Jul\"}, {\"month\": 7, \"year\": 1973, \"count\": 1912, \"Month\": \"Aug\"}, {\"month\": 8, \"year\": 1973, \"count\": 2084, \"Month\": \"Sep\"}, {\"month\": 9, \"year\": 1973, \"count\": 2080, \"Month\": \"Oct\"}, {\"month\": 10, \"year\": 1973, \"count\": 2118, \"Month\": \"Nov\"}, {\"month\": 11, \"year\": 1973, \"count\": 2150, \"Month\": \"Dec\"}, {\"month\": 0, \"year\": 1974, \"count\": 1608, \"Month\": \"Jan\"}, {\"month\": 1, \"year\": 1974, \"count\": 1503, \"Month\": \"Feb\"}, {\"month\": 2, \"year\": 1974, \"count\": 1548, \"Month\": \"Mar\"}, {\"month\": 3, \"year\": 1974, \"count\": 1382, \"Month\": \"Apr\"}, {\"month\": 4, \"year\": 1974, \"count\": 1731, \"Month\": \"May\"}, {\"month\": 5, \"year\": 1974, \"count\": 1798, \"Month\": \"Jun\"}, {\"month\": 6, \"year\": 1974, \"count\": 1779, \"Month\": \"Jul\"}, {\"month\": 7, \"year\": 1974, \"count\": 1887, \"Month\": \"Aug\"}, {\"month\": 8, \"year\": 1974, \"count\": 2004, \"Month\": \"Sep\"}, {\"month\": 9, \"year\": 1974, \"count\": 2077, \"Month\": \"Oct\"}, {\"month\": 10, \"year\": 1974, \"count\": 2092, \"Month\": \"Nov\"}, {\"month\": 11, \"year\": 1974, \"count\": 2051, \"Month\": \"Dec\"}, {\"month\": 0, \"year\": 1975, \"count\": 1577, \"Month\": \"Jan\"}, {\"month\": 1, \"year\": 1975, \"count\": 1356, \"Month\": \"Feb\"}, {\"month\": 2, \"year\": 1975, \"count\": 1652, \"Month\": \"Mar\"}, {\"month\": 3, \"year\": 1975, \"count\": 1382, \"Month\": \"Apr\"}, {\"month\": 4, \"year\": 1975, \"count\": 1519, \"Month\": \"May\"}, {\"month\": 5, \"year\": 1975, \"count\": 1421, \"Month\": \"Jun\"}, {\"month\": 6, \"year\": 1975, \"count\": 1442, \"Month\": \"Jul\"}, {\"month\": 7, \"year\": 1975, \"count\": 1543, \"Month\": \"Aug\"}, {\"month\": 8, \"year\": 1975, \"count\": 1656, \"Month\": \"Sep\"}, {\"month\": 9, \"year\": 1975, \"count\": 1561, \"Month\": \"Oct\"}, {\"month\": 10, \"year\": 1975, \"count\": 1905, \"Month\": \"Nov\"}, {\"month\": 11, \"year\": 1975, \"count\": 2199, \"Month\": \"Dec\"}, {\"month\": 0, \"year\": 1976, \"count\": 1473, \"Month\": \"Jan\"}, {\"month\": 1, \"year\": 1976, \"count\": 1655, \"Month\": \"Feb\"}, {\"month\": 2, \"year\": 1976, \"count\": 1407, \"Month\": \"Mar\"}, {\"month\": 3, \"year\": 1976, \"count\": 1395, \"Month\": \"Apr\"}, {\"month\": 4, \"year\": 1976, \"count\": 1530, \"Month\": \"May\"}, {\"month\": 5, \"year\": 1976, \"count\": 1309, \"Month\": \"Jun\"}, {\"month\": 6, \"year\": 1976, \"count\": 1526, \"Month\": \"Jul\"}, {\"month\": 7, \"year\": 1976, \"count\": 1327, \"Month\": \"Aug\"}, {\"month\": 8, \"year\": 1976, \"count\": 1627, \"Month\": \"Sep\"}, {\"month\": 9, \"year\": 1976, \"count\": 1748, \"Month\": \"Oct\"}, {\"month\": 10, \"year\": 1976, \"count\": 1958, \"Month\": \"Nov\"}, {\"month\": 11, \"year\": 1976, \"count\": 2274, \"Month\": \"Dec\"}, {\"month\": 0, \"year\": 1977, \"count\": 1648, \"Month\": \"Jan\"}, {\"month\": 1, \"year\": 1977, \"count\": 1401, \"Month\": \"Feb\"}, {\"month\": 2, \"year\": 1977, \"count\": 1411, \"Month\": \"Mar\"}, {\"month\": 3, \"year\": 1977, \"count\": 1403, \"Month\": \"Apr\"}, {\"month\": 4, \"year\": 1977, \"count\": 1394, \"Month\": \"May\"}, {\"month\": 5, \"year\": 1977, \"count\": 1520, \"Month\": \"Jun\"}, {\"month\": 6, \"year\": 1977, \"count\": 1528, \"Month\": \"Jul\"}, {\"month\": 7, \"year\": 1977, \"count\": 1643, \"Month\": \"Aug\"}, {\"month\": 8, \"year\": 1977, \"count\": 1515, \"Month\": \"Sep\"}, {\"month\": 9, \"year\": 1977, \"count\": 1685, \"Month\": \"Oct\"}, {\"month\": 10, \"year\": 1977, \"count\": 2000, \"Month\": \"Nov\"}, {\"month\": 11, \"year\": 1977, \"count\": 2215, \"Month\": \"Dec\"}, {\"month\": 0, \"year\": 1978, \"count\": 1956, \"Month\": \"Jan\"}, {\"month\": 1, \"year\": 1978, \"count\": 1462, \"Month\": \"Feb\"}, {\"month\": 2, \"year\": 1978, \"count\": 1563, \"Month\": \"Mar\"}, {\"month\": 3, \"year\": 1978, \"count\": 1459, \"Month\": \"Apr\"}, {\"month\": 4, \"year\": 1978, \"count\": 1446, \"Month\": \"May\"}, {\"month\": 5, \"year\": 1978, \"count\": 1622, \"Month\": \"Jun\"}, {\"month\": 6, \"year\": 1978, \"count\": 1657, \"Month\": \"Jul\"}, {\"month\": 7, \"year\": 1978, \"count\": 1638, \"Month\": \"Aug\"}, {\"month\": 8, \"year\": 1978, \"count\": 1643, \"Month\": \"Sep\"}, {\"month\": 9, \"year\": 1978, \"count\": 1683, \"Month\": \"Oct\"}, {\"month\": 10, \"year\": 1978, \"count\": 2050, \"Month\": \"Nov\"}, {\"month\": 11, \"year\": 1978, \"count\": 2262, \"Month\": \"Dec\"}, {\"month\": 0, \"year\": 1979, \"count\": 1813, \"Month\": \"Jan\"}, {\"month\": 1, \"year\": 1979, \"count\": 1445, \"Month\": \"Feb\"}, {\"month\": 2, \"year\": 1979, \"count\": 1762, \"Month\": \"Mar\"}, {\"month\": 3, \"year\": 1979, \"count\": 1461, \"Month\": \"Apr\"}, {\"month\": 4, \"year\": 1979, \"count\": 1556, \"Month\": \"May\"}, {\"month\": 5, \"year\": 1979, \"count\": 1431, \"Month\": \"Jun\"}, {\"month\": 6, \"year\": 1979, \"count\": 1427, \"Month\": \"Jul\"}, {\"month\": 7, \"year\": 1979, \"count\": 1554, \"Month\": \"Aug\"}, {\"month\": 8, \"year\": 1979, \"count\": 1645, \"Month\": \"Sep\"}, {\"month\": 9, \"year\": 1979, \"count\": 1653, \"Month\": \"Oct\"}, {\"month\": 10, \"year\": 1979, \"count\": 2016, \"Month\": \"Nov\"}, {\"month\": 11, \"year\": 1979, \"count\": 2207, \"Month\": \"Dec\"}, {\"month\": 0, \"year\": 1980, \"count\": 1665, \"Month\": \"Jan\"}, {\"month\": 1, \"year\": 1980, \"count\": 1361, \"Month\": \"Feb\"}, {\"month\": 2, \"year\": 1980, \"count\": 1506, \"Month\": \"Mar\"}, {\"month\": 3, \"year\": 1980, \"count\": 1360, \"Month\": \"Apr\"}, {\"month\": 4, \"year\": 1980, \"count\": 1453, \"Month\": \"May\"}, {\"month\": 5, \"year\": 1980, \"count\": 1522, \"Month\": \"Jun\"}, {\"month\": 6, \"year\": 1980, \"count\": 1460, \"Month\": \"Jul\"}, {\"month\": 7, \"year\": 1980, \"count\": 1552, \"Month\": \"Aug\"}, {\"month\": 8, \"year\": 1980, \"count\": 1548, \"Month\": \"Sep\"}, {\"month\": 9, \"year\": 1980, \"count\": 1827, \"Month\": \"Oct\"}, {\"month\": 10, \"year\": 1980, \"count\": 1737, \"Month\": \"Nov\"}, {\"month\": 11, \"year\": 1980, \"count\": 1941, \"Month\": \"Dec\"}, {\"month\": 0, \"year\": 1981, \"count\": 1474, \"Month\": \"Jan\"}, {\"month\": 1, \"year\": 1981, \"count\": 1458, \"Month\": \"Feb\"}, {\"month\": 2, \"year\": 1981, \"count\": 1542, \"Month\": \"Mar\"}, {\"month\": 3, \"year\": 1981, \"count\": 1404, \"Month\": \"Apr\"}, {\"month\": 4, \"year\": 1981, \"count\": 1522, \"Month\": \"May\"}, {\"month\": 5, \"year\": 1981, \"count\": 1385, \"Month\": \"Jun\"}, {\"month\": 6, \"year\": 1981, \"count\": 1641, \"Month\": \"Jul\"}, {\"month\": 7, \"year\": 1981, \"count\": 1510, \"Month\": \"Aug\"}, {\"month\": 8, \"year\": 1981, \"count\": 1681, \"Month\": \"Sep\"}, {\"month\": 9, \"year\": 1981, \"count\": 1938, \"Month\": \"Oct\"}, {\"month\": 10, \"year\": 1981, \"count\": 1868, \"Month\": \"Nov\"}, {\"month\": 11, \"year\": 1981, \"count\": 1726, \"Month\": \"Dec\"}, {\"month\": 0, \"year\": 1982, \"count\": 1456, \"Month\": \"Jan\"}, {\"month\": 1, \"year\": 1982, \"count\": 1445, \"Month\": \"Feb\"}, {\"month\": 2, \"year\": 1982, \"count\": 1456, \"Month\": \"Mar\"}, {\"month\": 3, \"year\": 1982, \"count\": 1365, \"Month\": \"Apr\"}, {\"month\": 4, \"year\": 1982, \"count\": 1487, \"Month\": \"May\"}, {\"month\": 5, \"year\": 1982, \"count\": 1558, \"Month\": \"Jun\"}, {\"month\": 6, \"year\": 1982, \"count\": 1488, \"Month\": \"Jul\"}, {\"month\": 7, \"year\": 1982, \"count\": 1684, \"Month\": \"Aug\"}, {\"month\": 8, \"year\": 1982, \"count\": 1594, \"Month\": \"Sep\"}, {\"month\": 9, \"year\": 1982, \"count\": 1850, \"Month\": \"Oct\"}, {\"month\": 10, \"year\": 1982, \"count\": 1998, \"Month\": \"Nov\"}, {\"month\": 11, \"year\": 1982, \"count\": 2079, \"Month\": \"Dec\"}, {\"month\": 0, \"year\": 1983, \"count\": 1494, \"Month\": \"Jan\"}, {\"month\": 1, \"year\": 1983, \"count\": 1057, \"Month\": \"Feb\"}, {\"month\": 2, \"year\": 1983, \"count\": 1218, \"Month\": \"Mar\"}, {\"month\": 3, \"year\": 1983, \"count\": 1168, \"Month\": \"Apr\"}, {\"month\": 4, \"year\": 1983, \"count\": 1236, \"Month\": \"May\"}, {\"month\": 5, \"year\": 1983, \"count\": 1076, \"Month\": \"Jun\"}, {\"month\": 6, \"year\": 1983, \"count\": 1174, \"Month\": \"Jul\"}, {\"month\": 7, \"year\": 1983, \"count\": 1139, \"Month\": \"Aug\"}, {\"month\": 8, \"year\": 1983, \"count\": 1427, \"Month\": \"Sep\"}, {\"month\": 9, \"year\": 1983, \"count\": 1487, \"Month\": \"Oct\"}, {\"month\": 10, \"year\": 1983, \"count\": 1483, \"Month\": \"Nov\"}, {\"month\": 11, \"year\": 1983, \"count\": 1513, \"Month\": \"Dec\"}, {\"month\": 0, \"year\": 1984, \"count\": 1357, \"Month\": \"Jan\"}, {\"month\": 1, \"year\": 1984, \"count\": 1165, \"Month\": \"Feb\"}, {\"month\": 2, \"year\": 1984, \"count\": 1282, \"Month\": \"Mar\"}, {\"month\": 3, \"year\": 1984, \"count\": 1110, \"Month\": \"Apr\"}, {\"month\": 4, \"year\": 1984, \"count\": 1297, \"Month\": \"May\"}, {\"month\": 5, \"year\": 1984, \"count\": 1185, \"Month\": \"Jun\"}, {\"month\": 6, \"year\": 1984, \"count\": 1222, \"Month\": \"Jul\"}, {\"month\": 7, \"year\": 1984, \"count\": 1284, \"Month\": \"Aug\"}, {\"month\": 8, \"year\": 1984, \"count\": 1444, \"Month\": \"Sep\"}, {\"month\": 9, \"year\": 1984, \"count\": 1575, \"Month\": \"Oct\"}, {\"month\": 10, \"year\": 1984, \"count\": 1737, \"Month\": \"Nov\"}, {\"month\": 11, \"year\": 1984, \"count\": 1763, \"Month\": \"Dec\"}]}}, {\"mode\": \"vega-lite\"});\n",
       "</script>"
      ],
      "text/plain": [
       "alt.Chart(...)"
      ]
     },
     "execution_count": 32,
     "metadata": {},
     "output_type": "execute_result"
    }
   ],
   "source": [
    "source = df\n",
    "df['Month'] = df['month'].apply(switchMonth)\n",
    "alt.Chart(source, title = 'Road Fatalities in the United Kingdom (1969 - 1984)').mark_rect().encode(\n",
    "    x=alt.X(\"year:N\", title='Year'), \n",
    "    y=alt.Y(\"Month:O\", sort=['Jan','Feb','Mar','Apr','May','Jun','Jul','Aug','Sep','Oct','Nov','Dec'], title=\"Month of Year\"),\n",
    "    color=alt.Color(\"count:Q\", scale=alt.Scale( range=['green','red']), \n",
    "        legend=alt.Legend(title='Fatalities')\n",
    "    )\n",
    ")"
   ]
  },
  {
   "cell_type": "markdown",
   "metadata": {},
   "source": [
    "### Problem 2"
   ]
  },
  {
   "cell_type": "code",
   "execution_count": 36,
   "metadata": {},
   "outputs": [
    {
     "data": {
      "text/html": [
       "<div>\n",
       "<style scoped>\n",
       "    .dataframe tbody tr th:only-of-type {\n",
       "        vertical-align: middle;\n",
       "    }\n",
       "\n",
       "    .dataframe tbody tr th {\n",
       "        vertical-align: top;\n",
       "    }\n",
       "\n",
       "    .dataframe thead th {\n",
       "        text-align: right;\n",
       "    }\n",
       "</style>\n",
       "<table border=\"1\" class=\"dataframe\">\n",
       "  <thead>\n",
       "    <tr style=\"text-align: right;\">\n",
       "      <th></th>\n",
       "      <th>year</th>\n",
       "      <th>count</th>\n",
       "    </tr>\n",
       "  </thead>\n",
       "  <tbody>\n",
       "    <tr>\n",
       "      <th>0</th>\n",
       "      <td>1969</td>\n",
       "      <td>19951</td>\n",
       "    </tr>\n",
       "    <tr>\n",
       "      <th>1</th>\n",
       "      <td>1970</td>\n",
       "      <td>21939</td>\n",
       "    </tr>\n",
       "    <tr>\n",
       "      <th>2</th>\n",
       "      <td>1971</td>\n",
       "      <td>22309</td>\n",
       "    </tr>\n",
       "    <tr>\n",
       "      <th>3</th>\n",
       "      <td>1972</td>\n",
       "      <td>23540</td>\n",
       "    </tr>\n",
       "    <tr>\n",
       "      <th>4</th>\n",
       "      <td>1973</td>\n",
       "      <td>23850</td>\n",
       "    </tr>\n",
       "    <tr>\n",
       "      <th>5</th>\n",
       "      <td>1974</td>\n",
       "      <td>21460</td>\n",
       "    </tr>\n",
       "    <tr>\n",
       "      <th>6</th>\n",
       "      <td>1975</td>\n",
       "      <td>19213</td>\n",
       "    </tr>\n",
       "    <tr>\n",
       "      <th>7</th>\n",
       "      <td>1976</td>\n",
       "      <td>19229</td>\n",
       "    </tr>\n",
       "    <tr>\n",
       "      <th>8</th>\n",
       "      <td>1977</td>\n",
       "      <td>19363</td>\n",
       "    </tr>\n",
       "    <tr>\n",
       "      <th>9</th>\n",
       "      <td>1978</td>\n",
       "      <td>20441</td>\n",
       "    </tr>\n",
       "    <tr>\n",
       "      <th>10</th>\n",
       "      <td>1979</td>\n",
       "      <td>19970</td>\n",
       "    </tr>\n",
       "    <tr>\n",
       "      <th>11</th>\n",
       "      <td>1980</td>\n",
       "      <td>18932</td>\n",
       "    </tr>\n",
       "    <tr>\n",
       "      <th>12</th>\n",
       "      <td>1981</td>\n",
       "      <td>19149</td>\n",
       "    </tr>\n",
       "    <tr>\n",
       "      <th>13</th>\n",
       "      <td>1982</td>\n",
       "      <td>19460</td>\n",
       "    </tr>\n",
       "    <tr>\n",
       "      <th>14</th>\n",
       "      <td>1983</td>\n",
       "      <td>15472</td>\n",
       "    </tr>\n",
       "    <tr>\n",
       "      <th>15</th>\n",
       "      <td>1984</td>\n",
       "      <td>16421</td>\n",
       "    </tr>\n",
       "  </tbody>\n",
       "</table>\n",
       "</div>"
      ],
      "text/plain": [
       "    year  count\n",
       "0   1969  19951\n",
       "1   1970  21939\n",
       "2   1971  22309\n",
       "3   1972  23540\n",
       "4   1973  23850\n",
       "5   1974  21460\n",
       "6   1975  19213\n",
       "7   1976  19229\n",
       "8   1977  19363\n",
       "9   1978  20441\n",
       "10  1979  19970\n",
       "11  1980  18932\n",
       "12  1981  19149\n",
       "13  1982  19460\n",
       "14  1983  15472\n",
       "15  1984  16421"
      ]
     },
     "execution_count": 36,
     "metadata": {},
     "output_type": "execute_result"
    }
   ],
   "source": [
    "df1 = pd.DataFrame(df.groupby(['year'],as_index=False)['count'].sum())\n",
    "df1['year']=df1['year'].apply(lambda x: str(x))\n",
    "df1"
   ]
  },
  {
   "cell_type": "code",
   "execution_count": 42,
   "metadata": {},
   "outputs": [
    {
     "data": {
      "text/html": [
       "\n",
       "<div id=\"altair-viz-76f3a53f17fa4acabc261855ced94897\"></div>\n",
       "<script type=\"text/javascript\">\n",
       "  (function(spec, embedOpt){\n",
       "    let outputDiv = document.currentScript.previousElementSibling;\n",
       "    if (outputDiv.id !== \"altair-viz-76f3a53f17fa4acabc261855ced94897\") {\n",
       "      outputDiv = document.getElementById(\"altair-viz-76f3a53f17fa4acabc261855ced94897\");\n",
       "    }\n",
       "    const paths = {\n",
       "      \"vega\": \"https://cdn.jsdelivr.net/npm//vega@5?noext\",\n",
       "      \"vega-lib\": \"https://cdn.jsdelivr.net/npm//vega-lib?noext\",\n",
       "      \"vega-lite\": \"https://cdn.jsdelivr.net/npm//vega-lite@4.8.1?noext\",\n",
       "      \"vega-embed\": \"https://cdn.jsdelivr.net/npm//vega-embed@6?noext\",\n",
       "    };\n",
       "\n",
       "    function loadScript(lib) {\n",
       "      return new Promise(function(resolve, reject) {\n",
       "        var s = document.createElement('script');\n",
       "        s.src = paths[lib];\n",
       "        s.async = true;\n",
       "        s.onload = () => resolve(paths[lib]);\n",
       "        s.onerror = () => reject(`Error loading script: ${paths[lib]}`);\n",
       "        document.getElementsByTagName(\"head\")[0].appendChild(s);\n",
       "      });\n",
       "    }\n",
       "\n",
       "    function showError(err) {\n",
       "      outputDiv.innerHTML = `<div class=\"error\" style=\"color:red;\">${err}</div>`;\n",
       "      throw err;\n",
       "    }\n",
       "\n",
       "    function displayChart(vegaEmbed) {\n",
       "      vegaEmbed(outputDiv, spec, embedOpt)\n",
       "        .catch(err => showError(`Javascript Error: ${err.message}<br>This usually means there's a typo in your chart specification. See the javascript console for the full traceback.`));\n",
       "    }\n",
       "\n",
       "    if(typeof define === \"function\" && define.amd) {\n",
       "      requirejs.config({paths});\n",
       "      require([\"vega-embed\"], displayChart, err => showError(`Error loading script: ${err.message}`));\n",
       "    } else if (typeof vegaEmbed === \"function\") {\n",
       "      displayChart(vegaEmbed);\n",
       "    } else {\n",
       "      loadScript(\"vega\")\n",
       "        .then(() => loadScript(\"vega-lite\"))\n",
       "        .then(() => loadScript(\"vega-embed\"))\n",
       "        .catch(showError)\n",
       "        .then(() => displayChart(vegaEmbed));\n",
       "    }\n",
       "  })({\"config\": {\"view\": {\"continuousWidth\": 400, \"continuousHeight\": 300}}, \"data\": {\"name\": \"data-c530103ef287fffd23849bfd8462cecc\"}, \"mark\": \"line\", \"encoding\": {\"x\": {\"type\": \"nominal\", \"axis\": {\"grid\": true}, \"field\": \"year\", \"title\": \"Year\"}, \"y\": {\"type\": \"quantitative\", \"axis\": {\"grid\": true}, \"field\": \"count\", \"scale\": {\"clamp\": true, \"domain\": [14000, 25000]}}}, \"title\": \"Road Fatalities in the United Kingdom (1969 - 1984)\", \"$schema\": \"https://vega.github.io/schema/vega-lite/v4.8.1.json\", \"datasets\": {\"data-c530103ef287fffd23849bfd8462cecc\": [{\"year\": \"1969\", \"count\": 19951}, {\"year\": \"1970\", \"count\": 21939}, {\"year\": \"1971\", \"count\": 22309}, {\"year\": \"1972\", \"count\": 23540}, {\"year\": \"1973\", \"count\": 23850}, {\"year\": \"1974\", \"count\": 21460}, {\"year\": \"1975\", \"count\": 19213}, {\"year\": \"1976\", \"count\": 19229}, {\"year\": \"1977\", \"count\": 19363}, {\"year\": \"1978\", \"count\": 20441}, {\"year\": \"1979\", \"count\": 19970}, {\"year\": \"1980\", \"count\": 18932}, {\"year\": \"1981\", \"count\": 19149}, {\"year\": \"1982\", \"count\": 19460}, {\"year\": \"1983\", \"count\": 15472}, {\"year\": \"1984\", \"count\": 16421}]}}, {\"mode\": \"vega-lite\"});\n",
       "</script>"
      ],
      "text/plain": [
       "alt.Chart(...)"
      ]
     },
     "execution_count": 42,
     "metadata": {},
     "output_type": "execute_result"
    }
   ],
   "source": [
    "alt.Chart(df1, title = 'Road Fatalities in the United Kingdom (1969 - 1984)').mark_line().encode(\n",
    "    x=alt.X(\"year\", title='Year',axis=alt.Axis(grid=True)),\n",
    "    y=alt.Y('count', axis=alt.Axis(grid=True),scale=alt.Scale(domain=[14000,25000], clamp=True)),\n",
    ")"
   ]
  },
  {
   "cell_type": "code",
   "execution_count": null,
   "metadata": {},
   "outputs": [],
   "source": []
  }
 ],
 "metadata": {
  "kernelspec": {
   "display_name": "Python 3",
   "language": "python",
   "name": "python3"
  },
  "language_info": {
   "codemirror_mode": {
    "name": "ipython",
    "version": 3
   },
   "file_extension": ".py",
   "mimetype": "text/x-python",
   "name": "python",
   "nbconvert_exporter": "python",
   "pygments_lexer": "ipython3",
   "version": "3.7.1"
  }
 },
 "nbformat": 4,
 "nbformat_minor": 2
}
